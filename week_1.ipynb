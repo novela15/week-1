{
  "nbformat": 4,
  "nbformat_minor": 0,
  "metadata": {
    "colab": {
      "provenance": []
    },
    "kernelspec": {
      "name": "python3",
      "display_name": "Python 3"
    },
    "language_info": {
      "name": "python"
    }
  },
  "cells": [
    {
      "cell_type": "markdown",
      "source": [
        "Say hello python"
      ],
      "metadata": {
        "id": "FMeaC36dsyHS"
      }
    },
    {
      "cell_type": "code",
      "source": [
        "print('Hello, Python')"
      ],
      "metadata": {
        "colab": {
          "base_uri": "https://localhost:8080/"
        },
        "id": "EnjArpIBtfaJ",
        "outputId": "0459cdc6-8927-4478-aa54-9e33d355a6cf"
      },
      "execution_count": null,
      "outputs": [
        {
          "output_type": "stream",
          "name": "stdout",
          "text": [
            "Hello, Python\n"
          ]
        }
      ]
    },
    {
      "cell_type": "markdown",
      "source": [
        "Cetak Nama dan Nim"
      ],
      "metadata": {
        "id": "Ozp0kpp0tlxR"
      }
    },
    {
      "cell_type": "code",
      "source": [
        "print('Novela Eka saputri, 2420506040')"
      ],
      "metadata": {
        "colab": {
          "base_uri": "https://localhost:8080/"
        },
        "id": "xQ_PrcTXuGcA",
        "outputId": "77712aef-9dc1-4684-938d-9247bc177643"
      },
      "execution_count": null,
      "outputs": [
        {
          "output_type": "stream",
          "name": "stdout",
          "text": [
            "Novela Eka saputri, 2420506040\n"
          ]
        }
      ]
    },
    {
      "cell_type": "code",
      "source": [
        "print('Nama         : Novela Eka Saputri')\n",
        "print('NPM          : 2420506040')\n",
        "print('Alamat       : Borobudur')\n",
        "print('Tinggi Badan : 155Cm')\n",
        "print('Berat Badan  : 40Kg')"
      ],
      "metadata": {
        "colab": {
          "base_uri": "https://localhost:8080/"
        },
        "id": "rLbKekcfv9ow",
        "outputId": "d2384b90-f63a-4855-c958-abd143abbd58"
      },
      "execution_count": null,
      "outputs": [
        {
          "output_type": "stream",
          "name": "stdout",
          "text": [
            "Nama         : Novela Eka Saputri\n",
            "NPM          : 2420506040\n",
            "Alamat       : Borobudur\n",
            "Tinggi Badan : 155Cm\n",
            "Berat Badan  : 40Kg\n"
          ]
        }
      ]
    },
    {
      "cell_type": "code",
      "source": [
        "print('\\033[1m' + 'UNIVERSITAS TIDAR' + '\\033[0m')\n",
        "print('Universitas Tidar merupakan Perguruan Tinggi Pemerintah atau Perguruan Tinggi Negeri yang telah ditetapkan berdasarkan Peraturan Presiden Republik Indonesia')\n",
        "print('\\033[1m' + 'JURUSAN TEKNIK ELEKTRO, MEKATRONIKA, INFORMASI' + '\\033[0m')\n",
        "print(1 * \"\\n\")\n",
        "print('Jurusan Teknik Elektro, Mekatronika, Informasi terdiri atas tiga program studi, antara lain: ')\n",
        "print('   1. S1 Teknik Elektro (\\x1b[3mBachelor of Electrical Engineering\\x1b[0m)')\n",
        "print('   2. S1 Teknologi Informasi (\\x1b[3mBachelor of Information Technology\\x1b[0m)')\n",
        "print('   3. S1 Teknik Mekatronika (\\x1b[3mBachelor of Mechatronics Engineering\\x1b[0m)')"
      ],
      "metadata": {
        "colab": {
          "base_uri": "https://localhost:8080/"
        },
        "id": "d3HbNlCNvlIB",
        "outputId": "8e55c2dc-e6c0-4993-9f8b-70f8d16d194f"
      },
      "execution_count": null,
      "outputs": [
        {
          "output_type": "stream",
          "name": "stdout",
          "text": [
            "\u001b[1mUNIVERSITAS TIDAR\u001b[0m\n",
            "Universitas Tidar merupakan Perguruan Tinggi Pemerintah atau Perguruan Tinggi Negeri yang telah ditetapkan berdasarkan Peraturan Presiden Republik Indonesia\n",
            "\u001b[1mJURUSAN TEKNIK ELEKTRO, MEKATRONIKA, INFORMASI\u001b[0m\n",
            "\n",
            "\n",
            "Jurusan Teknik Elektro, Mekatronika, Informasi terdiri atas tiga program studi, antara lain: \n",
            "   1. S1 Teknik Elektro (\u001b[3mBachelor of Electrical Engineering\u001b[0m)\n",
            "   2. S1 Teknologi Informasi (\u001b[3mBachelor of Information Technology\u001b[0m)\n",
            "   3. S1 Teknik Mekatronika (\u001b[3mBachelor of Mechatronics Engineering\u001b[0m)\n"
          ]
        }
      ]
    }
  ]
}